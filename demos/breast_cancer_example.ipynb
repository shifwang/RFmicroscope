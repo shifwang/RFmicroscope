{
 "cells": [
  {
   "cell_type": "code",
   "execution_count": 13,
   "metadata": {},
   "outputs": [],
   "source": [
    "import numpy as np\n",
    "import scipy as sp\n",
    "import pandas as pd\n",
    "import sklearn \n",
    "from sklearn.datasets import load_breast_cancer\n",
    "from sklearn.model_selection import train_test_split\n",
    "from sklearn.ensemble import RandomForestClassifier\n",
    "from rfms.readers import ForestReader\n",
    "from rfms.storytellers import individual_signed_feature_importance\n",
    "import matplotlib.pyplot as plt\n",
    "import seaborn as sns"
   ]
  },
  {
   "cell_type": "markdown",
   "metadata": {},
   "source": [
    "# Calculate individual feature importance and visualization"
   ]
  },
  {
   "cell_type": "code",
   "execution_count": 11,
   "metadata": {},
   "outputs": [
    {
     "name": "stderr",
     "output_type": "stream",
     "text": [
      "/home/yu/miniconda3/lib/python3.6/site-packages/sklearn/model_selection/_split.py:2026: FutureWarning: From version 0.21, test_size will always complement train_size unless both are specified.\n",
      "  FutureWarning)\n"
     ]
    },
    {
     "name": "stdout",
     "output_type": "stream",
     "text": [
      "Here is the summary.\n",
      "Number of features is 30\n",
      "Number of samples is 285\n",
      "Number of paths is 39\n",
      "Some samples from self.info_\n",
      "   f0 f1       f2        f3 f4          f5        f6        f7 f8 f9  \\\n",
      "4   0  0        0         0  0           0         0   0.33377  0  0   \n",
      "21  0  0        0         0  0           0 -0.502438         0  0  0   \n",
      "0   0  0        0         0  0           0         0         0  0  0   \n",
      "6   0  0        0         0  0           0         0 -0.512575  0  0   \n",
      "32  0  0        0  0.243248  0           0         0 -0.758404  0  0   \n",
      "30  0  0 -0.50503         0  0           0         0         0  0  0   \n",
      "11  0  0        0         0  0 -0.00999369         0         0  0  0   \n",
      "22  0  0        0         0  0           0 -0.502438         0  0  0   \n",
      "5   0  0        0         0  0           0         0   0.33377  0  0   \n",
      "9   0  0        0         0  0           0         0         0  0  0   \n",
      "\n",
      "      ...       s278   s279   s280   s281   s282   s283   s284 tree_id  \\\n",
      "4     ...       True  False   True   True  False   True  False       1   \n",
      "21    ...      False  False  False  False  False  False  False       5   \n",
      "0     ...      False  False  False  False  False  False  False       0   \n",
      "6     ...      False  False  False  False  False  False  False       1   \n",
      "32    ...      False  False  False  False  False  False  False       8   \n",
      "30    ...      False   True  False  False  False  False   True       7   \n",
      "11    ...      False   True  False  False  False  False   True       2   \n",
      "22    ...      False   True  False  False  False  False   True       5   \n",
      "5     ...      False  False  False  False   True  False  False       1   \n",
      "9     ...      False  False  False  False  False  False  False       2   \n",
      "\n",
      "   leaf_id pred_label  \n",
      "4        2        1.0  \n",
      "21       5        1.0  \n",
      "0        2        1.0  \n",
      "6        5        1.0  \n",
      "32       3        0.0  \n",
      "30       6        0.0  \n",
      "11       6        0.0  \n",
      "22       6        0.0  \n",
      "5        3        1.0  \n",
      "9        3        0.0  \n",
      "\n",
      "[10 rows x 318 columns]\n",
      "end.\n",
      "               f0        f1        f2        f3   f4        f5        f6  \\\n",
      "sample_names                                                               \n",
      "s0            0.0  0.000000 -0.050503  0.024325  0.0  0.000000 -0.050244   \n",
      "s1            0.0  0.000000  0.029625  0.024325  0.0  0.000000  0.031168   \n",
      "s2            0.0  0.000000  0.029625  0.024325  0.0  0.000000  0.031168   \n",
      "s3            0.0 -0.006833  0.029625  0.024325  0.0 -0.000999  0.031168   \n",
      "s4            0.0 -0.006833 -0.050503  0.024325  0.0 -0.000999 -0.050244   \n",
      "\n",
      "                    f7   f8   f9    ...          f20       f21       f22  \\\n",
      "sample_names                        ...                                    \n",
      "s0            0.043578  0.0  0.0    ...     0.000000 -0.036525  0.061880   \n",
      "s1            0.043578  0.0  0.0    ...     0.000000  0.004006  0.061880   \n",
      "s2            0.043578  0.0  0.0    ...     0.000000  0.004006  0.061880   \n",
      "s3           -0.127098  0.0  0.0    ...    -0.006868  0.000000 -0.032791   \n",
      "s4           -0.127098  0.0  0.0    ...    -0.006868  0.000000 -0.119910   \n",
      "\n",
      "                   f23       f24       f25  f26       f27  f28       f29  \n",
      "sample_names                                                              \n",
      "s0            0.062900  0.000000  0.005860  0.0  0.057534  0.0  0.010739  \n",
      "s1            0.076196  0.000000  0.005860  0.0  0.057534  0.0  0.010739  \n",
      "s2            0.154347  0.000000  0.005254  0.0 -0.020011  0.0  0.010739  \n",
      "s3           -0.114769  0.000000  0.000000  0.0 -0.108908  0.0  0.004184  \n",
      "s4           -0.128065 -0.002381  0.000000  0.0 -0.108908  0.0  0.000000  \n",
      "\n",
      "[5 rows x 30 columns]\n",
      "[ 0.          0.01183196  0.08595373  0.06569056  0.          0.00154884\n",
      "  0.08568873  0.11102981  0.          0.          0.          0.          0.\n",
      "  0.00828456  0.          0.          0.          0.          0.          0.\n",
      "  0.01184728  0.00434124  0.18253118  0.22408015  0.00364916  0.01491773\n",
      "  0.          0.15897709  0.          0.02962799]\n",
      "[ 0.          0.00692673  0.07541478  0.0760977   0.         -0.00121047\n",
      "  0.08839958  0.11505626  0.          0.          0.          0.          0.\n",
      "  0.00880007  0.          0.          0.          0.          0.          0.\n",
      "  0.00936751  0.00095701  0.18774074  0.23790167  0.00179334  0.00899762\n",
      "  0.          0.16901309  0.          0.01474436]\n"
     ]
    }
   ],
   "source": [
    "options = dict()\n",
    "raw_data = load_breast_cancer()\n",
    "X_train, X_test, y_train, y_test = train_test_split(\n",
    "    raw_data.data, raw_data.target, train_size=0.5,\n",
    "    random_state=2017)\n",
    "rf = RandomForestClassifier(\n",
    "    n_estimators=10, random_state=1231, max_depth = 2, bootstrap=True)\n",
    "rf.fit(X=X_train, y=y_train)\n",
    "#print(rf.estimators_[0].tree_.value[0])\n",
    "b = ForestReader()\n",
    "b.read_from(rf, X_test, TreeReaderType = 'Importance')\n",
    "b.summary()\n",
    "out, feature_importances_ = individual_signed_feature_importance(b, y_test)\n",
    "print(out.head())\n",
    "print(rf.feature_importances_)\n",
    "print(feature_importances_)"
   ]
  },
  {
   "cell_type": "markdown",
   "metadata": {},
   "source": [
    "## Look at the most important feature F23"
   ]
  },
  {
   "cell_type": "code",
   "execution_count": 19,
   "metadata": {},
   "outputs": [
    {
     "data": {
      "text/plain": [
       "Text(0.5,0,'feature values')"
      ]
     },
     "execution_count": 19,
     "metadata": {},
     "output_type": "execute_result"
    },
    {
     "data": {
      "image/png": "[encoded data removed]",
      "text/plain": [
       "<Figure size 432x288 with 1 Axes>"
      ]
     },
     "metadata": {
      "needs_background": "light"
     },
     "output_type": "display_data"
    }
   ],
   "source": [
    "plt.scatter(X_test[:,23], out.loc[:,'f23'])\n",
    "plt.ylabel('influence on the outcome')\n",
    "plt.xlabel('feature values')"
   ]
  },
  {
   "cell_type": "markdown",
   "metadata": {},
   "source": [
    "### F23 is very important, if it is smaller than ~700, it will increase the probability that a unit is from label 1 by 7%, if it is larger than 1000, it decreases the probability by 10%."
   ]
  },
  {
   "cell_type": "markdown",
   "metadata": {},
   "source": [
    "## Look at the second important feature F22"
   ]
  },
  {
   "cell_type": "code",
   "execution_count": 22,
   "metadata": {},
   "outputs": [
    {
     "data": {
      "text/plain": [
       "Text(0.5,0,'feature values')"
      ]
     },
     "execution_count": 22,
     "metadata": {},
     "output_type": "execute_result"
    },
    {
     "data": {
      "image/png": "[encoded data removed]",
      "text/plain": [
       "<Figure size 432x288 with 1 Axes>"
      ]
     },
     "metadata": {
      "needs_background": "light"
     },
     "output_type": "display_data"
    }
   ],
   "source": [
    "plt.scatter(X_test[:,22], out.loc[:,'f22'])\n",
    "plt.ylabel('influence on the outcome')\n",
    "plt.xlabel('feature values')"
   ]
  },
  {
   "cell_type": "markdown",
   "metadata": {},
   "source": [
    "### The story is less clear."
   ]
  },
  {
   "cell_type": "markdown",
   "metadata": {},
   "source": [
    "## Look at 2 features together"
   ]
  },
  {
   "cell_type": "code",
   "execution_count": 29,
   "metadata": {},
   "outputs": [
    {
     "data": {
      "text/plain": [
       "Text(0.5,0,'F23')"
      ]
     },
     "execution_count": 29,
     "metadata": {},
     "output_type": "execute_result"
    },
    {
     "data": {
      "image/png": "[encoded data removed]",
      "text/plain": [
       "<Figure size 432x288 with 2 Axes>"
      ]
     },
     "metadata": {
      "needs_background": "light"
     },
     "output_type": "display_data"
    }
   ],
   "source": [
    "plt.scatter(X_test[:,22], X_test[:,23], c = out.loc[:,'f22'], s = 50, cmap = sns.cubehelix_palette(as_cmap=True), alpha=.5)\n",
    "plt.colorbar()\n",
    "plt.ylabel('F22')\n",
    "plt.xlabel('F23')"
   ]
  },
  {
   "cell_type": "markdown",
   "metadata": {},
   "source": [
    "### When F22 and F23 are large, it is more likely to be from class 0, otherwise it is more likely to be from class 1."
   ]
  }
 ],
 "metadata": {
  "kernelspec": {
   "display_name": "Python 3",
   "language": "python",
   "name": "python3"
  },
  "language_info": {
   "codemirror_mode": {
    "name": "ipython",
    "version": 3
   },
   "file_extension": ".py",
   "mimetype": "text/x-python",
   "name": "python",
   "nbconvert_exporter": "python",
   "pygments_lexer": "ipython3",
   "version": "3.6.5"
  }
 },
 "nbformat": 4,
 "nbformat_minor": 2
}
