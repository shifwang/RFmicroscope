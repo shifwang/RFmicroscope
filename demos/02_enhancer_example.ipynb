{
 "cells": [
  {
   "cell_type": "code",
   "execution_count": 1,
   "metadata": {},
   "outputs": [
    {
     "name": "stderr",
     "output_type": "stream",
     "text": [
      "/home/ubuntu/anaconda3/envs/python3/lib/python3.6/site-packages/sklearn/ensemble/weight_boosting.py:29: DeprecationWarning: numpy.core.umath_tests is an internal NumPy module and should not be imported. It will be removed in a future NumPy release.\n",
      "  from numpy.core.umath_tests import inner1d\n"
     ]
    }
   ],
   "source": [
    "import numpy as np\n",
    "import scipy as sp\n",
    "import pandas as pd\n",
    "import sklearn\n",
    "from sklearn.model_selection import train_test_split\n",
    "from sklearn.ensemble import RandomForestClassifier\n",
    "from rfms.readers import ForestReader\n",
    "from rfms.storytellers import individual_signed_feature_importance, oob_feature_importance\n",
    "import matplotlib.pyplot as plt\n",
    "import seaborn as sns"
   ]
  },
  {
   "cell_type": "code",
   "execution_count": 2,
   "metadata": {},
   "outputs": [
    {
     "data": {
      "text/html": [
       "<div>\n",
       "<style scoped>\n",
       "    .dataframe tbody tr th:only-of-type {\n",
       "        vertical-align: middle;\n",
       "    }\n",
       "\n",
       "    .dataframe tbody tr th {\n",
       "        vertical-align: top;\n",
       "    }\n",
       "\n",
       "    .dataframe thead th {\n",
       "        text-align: right;\n",
       "    }\n",
       "</style>\n",
       "<table border=\"1\" class=\"dataframe\">\n",
       "  <thead>\n",
       "    <tr style=\"text-align: right;\">\n",
       "      <th></th>\n",
       "      <th>H3_c12</th>\n",
       "      <th>H3_c14a</th>\n",
       "      <th>H3_c14c</th>\n",
       "      <th>H3_c8</th>\n",
       "      <th>H3K18ac_c12</th>\n",
       "      <th>H3K18ac_c14a</th>\n",
       "      <th>H3K18ac_c14c</th>\n",
       "      <th>H3K18ac_c8</th>\n",
       "      <th>H3K27ac_c12</th>\n",
       "      <th>H3K27ac_c14a</th>\n",
       "      <th>...</th>\n",
       "      <th>shn2</th>\n",
       "      <th>shn3</th>\n",
       "      <th>slp1</th>\n",
       "      <th>sna1</th>\n",
       "      <th>sna2</th>\n",
       "      <th>tll1</th>\n",
       "      <th>twi1</th>\n",
       "      <th>twi2</th>\n",
       "      <th>z2</th>\n",
       "      <th>active</th>\n",
       "    </tr>\n",
       "  </thead>\n",
       "  <tbody>\n",
       "    <tr>\n",
       "      <th>VT0002</th>\n",
       "      <td>6</td>\n",
       "      <td>10</td>\n",
       "      <td>10</td>\n",
       "      <td>8</td>\n",
       "      <td>5</td>\n",
       "      <td>7</td>\n",
       "      <td>8</td>\n",
       "      <td>9</td>\n",
       "      <td>12</td>\n",
       "      <td>17</td>\n",
       "      <td>...</td>\n",
       "      <td>0.0</td>\n",
       "      <td>0.0</td>\n",
       "      <td>0.0</td>\n",
       "      <td>0.0</td>\n",
       "      <td>0.0</td>\n",
       "      <td>0.0</td>\n",
       "      <td>0.0</td>\n",
       "      <td>0.0</td>\n",
       "      <td>0.00000</td>\n",
       "      <td>0</td>\n",
       "    </tr>\n",
       "    <tr>\n",
       "      <th>VT0003</th>\n",
       "      <td>6</td>\n",
       "      <td>7</td>\n",
       "      <td>6</td>\n",
       "      <td>5</td>\n",
       "      <td>19</td>\n",
       "      <td>10</td>\n",
       "      <td>11</td>\n",
       "      <td>0</td>\n",
       "      <td>4</td>\n",
       "      <td>15</td>\n",
       "      <td>...</td>\n",
       "      <td>0.0</td>\n",
       "      <td>0.0</td>\n",
       "      <td>0.0</td>\n",
       "      <td>0.0</td>\n",
       "      <td>0.0</td>\n",
       "      <td>0.0</td>\n",
       "      <td>0.0</td>\n",
       "      <td>0.0</td>\n",
       "      <td>0.00000</td>\n",
       "      <td>0</td>\n",
       "    </tr>\n",
       "    <tr>\n",
       "      <th>VT0004</th>\n",
       "      <td>14</td>\n",
       "      <td>9</td>\n",
       "      <td>14</td>\n",
       "      <td>13</td>\n",
       "      <td>11</td>\n",
       "      <td>9</td>\n",
       "      <td>19</td>\n",
       "      <td>10</td>\n",
       "      <td>1</td>\n",
       "      <td>15</td>\n",
       "      <td>...</td>\n",
       "      <td>0.0</td>\n",
       "      <td>0.0</td>\n",
       "      <td>0.0</td>\n",
       "      <td>0.0</td>\n",
       "      <td>0.0</td>\n",
       "      <td>0.0</td>\n",
       "      <td>0.0</td>\n",
       "      <td>0.0</td>\n",
       "      <td>1.20130</td>\n",
       "      <td>0</td>\n",
       "    </tr>\n",
       "    <tr>\n",
       "      <th>VT0005</th>\n",
       "      <td>13</td>\n",
       "      <td>17</td>\n",
       "      <td>13</td>\n",
       "      <td>13</td>\n",
       "      <td>19</td>\n",
       "      <td>14</td>\n",
       "      <td>25</td>\n",
       "      <td>10</td>\n",
       "      <td>29</td>\n",
       "      <td>20</td>\n",
       "      <td>...</td>\n",
       "      <td>0.0</td>\n",
       "      <td>0.0</td>\n",
       "      <td>0.0</td>\n",
       "      <td>0.0</td>\n",
       "      <td>0.0</td>\n",
       "      <td>0.0</td>\n",
       "      <td>0.0</td>\n",
       "      <td>0.0</td>\n",
       "      <td>0.00000</td>\n",
       "      <td>0</td>\n",
       "    </tr>\n",
       "    <tr>\n",
       "      <th>VT0006</th>\n",
       "      <td>6</td>\n",
       "      <td>6</td>\n",
       "      <td>6</td>\n",
       "      <td>10</td>\n",
       "      <td>13</td>\n",
       "      <td>23</td>\n",
       "      <td>28</td>\n",
       "      <td>10</td>\n",
       "      <td>8</td>\n",
       "      <td>69</td>\n",
       "      <td>...</td>\n",
       "      <td>0.0</td>\n",
       "      <td>0.0</td>\n",
       "      <td>0.0</td>\n",
       "      <td>0.0</td>\n",
       "      <td>0.0</td>\n",
       "      <td>0.0</td>\n",
       "      <td>0.0</td>\n",
       "      <td>0.0</td>\n",
       "      <td>1.21019</td>\n",
       "      <td>1</td>\n",
       "    </tr>\n",
       "  </tbody>\n",
       "</table>\n",
       "<p>5 rows × 81 columns</p>\n",
       "</div>"
      ],
      "text/plain": [
       "        H3_c12  H3_c14a  H3_c14c  H3_c8  H3K18ac_c12  H3K18ac_c14a  \\\n",
       "VT0002       6       10       10      8            5             7   \n",
       "VT0003       6        7        6      5           19            10   \n",
       "VT0004      14        9       14     13           11             9   \n",
       "VT0005      13       17       13     13           19            14   \n",
       "VT0006       6        6        6     10           13            23   \n",
       "\n",
       "        H3K18ac_c14c  H3K18ac_c8  H3K27ac_c12  H3K27ac_c14a   ...    shn2  \\\n",
       "VT0002             8           9           12            17   ...     0.0   \n",
       "VT0003            11           0            4            15   ...     0.0   \n",
       "VT0004            19          10            1            15   ...     0.0   \n",
       "VT0005            25          10           29            20   ...     0.0   \n",
       "VT0006            28          10            8            69   ...     0.0   \n",
       "\n",
       "        shn3  slp1  sna1  sna2  tll1  twi1  twi2       z2  active  \n",
       "VT0002   0.0   0.0   0.0   0.0   0.0   0.0   0.0  0.00000       0  \n",
       "VT0003   0.0   0.0   0.0   0.0   0.0   0.0   0.0  0.00000       0  \n",
       "VT0004   0.0   0.0   0.0   0.0   0.0   0.0   0.0  1.20130       0  \n",
       "VT0005   0.0   0.0   0.0   0.0   0.0   0.0   0.0  0.00000       0  \n",
       "VT0006   0.0   0.0   0.0   0.0   0.0   0.0   0.0  1.21019       1  \n",
       "\n",
       "[5 rows x 81 columns]"
      ]
     },
     "execution_count": 2,
     "metadata": {},
     "output_type": "execute_result"
    }
   ],
   "source": [
    "data = pd.read_csv('../data/enhancer.csv', index_col=0)\n",
    "data.head()"
   ]
  },
  {
   "cell_type": "code",
   "execution_count": 3,
   "metadata": {},
   "outputs": [
    {
     "data": {
      "text/html": [
       "<div>\n",
       "<style scoped>\n",
       "    .dataframe tbody tr th:only-of-type {\n",
       "        vertical-align: middle;\n",
       "    }\n",
       "\n",
       "    .dataframe tbody tr th {\n",
       "        vertical-align: top;\n",
       "    }\n",
       "\n",
       "    .dataframe thead th {\n",
       "        text-align: right;\n",
       "    }\n",
       "</style>\n",
       "<table border=\"1\" class=\"dataframe\">\n",
       "  <thead>\n",
       "    <tr style=\"text-align: right;\">\n",
       "      <th></th>\n",
       "      <th>H3_c12</th>\n",
       "      <th>H3_c14a</th>\n",
       "      <th>H3_c14c</th>\n",
       "      <th>H3_c8</th>\n",
       "      <th>H3K18ac_c12</th>\n",
       "      <th>H3K18ac_c14a</th>\n",
       "      <th>H3K18ac_c14c</th>\n",
       "      <th>H3K18ac_c8</th>\n",
       "      <th>H3K27ac_c12</th>\n",
       "      <th>H3K27ac_c14a</th>\n",
       "      <th>...</th>\n",
       "      <th>run2</th>\n",
       "      <th>shn2</th>\n",
       "      <th>shn3</th>\n",
       "      <th>slp1</th>\n",
       "      <th>sna1</th>\n",
       "      <th>sna2</th>\n",
       "      <th>tll1</th>\n",
       "      <th>twi1</th>\n",
       "      <th>twi2</th>\n",
       "      <th>z2</th>\n",
       "    </tr>\n",
       "  </thead>\n",
       "  <tbody>\n",
       "    <tr>\n",
       "      <th>VT0002</th>\n",
       "      <td>6</td>\n",
       "      <td>10</td>\n",
       "      <td>10</td>\n",
       "      <td>8</td>\n",
       "      <td>5</td>\n",
       "      <td>7</td>\n",
       "      <td>8</td>\n",
       "      <td>9</td>\n",
       "      <td>12</td>\n",
       "      <td>17</td>\n",
       "      <td>...</td>\n",
       "      <td>0.0</td>\n",
       "      <td>0.0</td>\n",
       "      <td>0.0</td>\n",
       "      <td>0.0</td>\n",
       "      <td>0.0</td>\n",
       "      <td>0.0</td>\n",
       "      <td>0.0</td>\n",
       "      <td>0.0</td>\n",
       "      <td>0.0</td>\n",
       "      <td>0.00000</td>\n",
       "    </tr>\n",
       "    <tr>\n",
       "      <th>VT0003</th>\n",
       "      <td>6</td>\n",
       "      <td>7</td>\n",
       "      <td>6</td>\n",
       "      <td>5</td>\n",
       "      <td>19</td>\n",
       "      <td>10</td>\n",
       "      <td>11</td>\n",
       "      <td>0</td>\n",
       "      <td>4</td>\n",
       "      <td>15</td>\n",
       "      <td>...</td>\n",
       "      <td>0.0</td>\n",
       "      <td>0.0</td>\n",
       "      <td>0.0</td>\n",
       "      <td>0.0</td>\n",
       "      <td>0.0</td>\n",
       "      <td>0.0</td>\n",
       "      <td>0.0</td>\n",
       "      <td>0.0</td>\n",
       "      <td>0.0</td>\n",
       "      <td>0.00000</td>\n",
       "    </tr>\n",
       "    <tr>\n",
       "      <th>VT0004</th>\n",
       "      <td>14</td>\n",
       "      <td>9</td>\n",
       "      <td>14</td>\n",
       "      <td>13</td>\n",
       "      <td>11</td>\n",
       "      <td>9</td>\n",
       "      <td>19</td>\n",
       "      <td>10</td>\n",
       "      <td>1</td>\n",
       "      <td>15</td>\n",
       "      <td>...</td>\n",
       "      <td>0.0</td>\n",
       "      <td>0.0</td>\n",
       "      <td>0.0</td>\n",
       "      <td>0.0</td>\n",
       "      <td>0.0</td>\n",
       "      <td>0.0</td>\n",
       "      <td>0.0</td>\n",
       "      <td>0.0</td>\n",
       "      <td>0.0</td>\n",
       "      <td>1.20130</td>\n",
       "    </tr>\n",
       "    <tr>\n",
       "      <th>VT0005</th>\n",
       "      <td>13</td>\n",
       "      <td>17</td>\n",
       "      <td>13</td>\n",
       "      <td>13</td>\n",
       "      <td>19</td>\n",
       "      <td>14</td>\n",
       "      <td>25</td>\n",
       "      <td>10</td>\n",
       "      <td>29</td>\n",
       "      <td>20</td>\n",
       "      <td>...</td>\n",
       "      <td>0.0</td>\n",
       "      <td>0.0</td>\n",
       "      <td>0.0</td>\n",
       "      <td>0.0</td>\n",
       "      <td>0.0</td>\n",
       "      <td>0.0</td>\n",
       "      <td>0.0</td>\n",
       "      <td>0.0</td>\n",
       "      <td>0.0</td>\n",
       "      <td>0.00000</td>\n",
       "    </tr>\n",
       "    <tr>\n",
       "      <th>VT0006</th>\n",
       "      <td>6</td>\n",
       "      <td>6</td>\n",
       "      <td>6</td>\n",
       "      <td>10</td>\n",
       "      <td>13</td>\n",
       "      <td>23</td>\n",
       "      <td>28</td>\n",
       "      <td>10</td>\n",
       "      <td>8</td>\n",
       "      <td>69</td>\n",
       "      <td>...</td>\n",
       "      <td>0.0</td>\n",
       "      <td>0.0</td>\n",
       "      <td>0.0</td>\n",
       "      <td>0.0</td>\n",
       "      <td>0.0</td>\n",
       "      <td>0.0</td>\n",
       "      <td>0.0</td>\n",
       "      <td>0.0</td>\n",
       "      <td>0.0</td>\n",
       "      <td>1.21019</td>\n",
       "    </tr>\n",
       "  </tbody>\n",
       "</table>\n",
       "<p>5 rows × 80 columns</p>\n",
       "</div>"
      ],
      "text/plain": [
       "        H3_c12  H3_c14a  H3_c14c  H3_c8  H3K18ac_c12  H3K18ac_c14a  \\\n",
       "VT0002       6       10       10      8            5             7   \n",
       "VT0003       6        7        6      5           19            10   \n",
       "VT0004      14        9       14     13           11             9   \n",
       "VT0005      13       17       13     13           19            14   \n",
       "VT0006       6        6        6     10           13            23   \n",
       "\n",
       "        H3K18ac_c14c  H3K18ac_c8  H3K27ac_c12  H3K27ac_c14a   ...     run2  \\\n",
       "VT0002             8           9           12            17   ...      0.0   \n",
       "VT0003            11           0            4            15   ...      0.0   \n",
       "VT0004            19          10            1            15   ...      0.0   \n",
       "VT0005            25          10           29            20   ...      0.0   \n",
       "VT0006            28          10            8            69   ...      0.0   \n",
       "\n",
       "        shn2  shn3  slp1  sna1  sna2  tll1  twi1  twi2       z2  \n",
       "VT0002   0.0   0.0   0.0   0.0   0.0   0.0   0.0   0.0  0.00000  \n",
       "VT0003   0.0   0.0   0.0   0.0   0.0   0.0   0.0   0.0  0.00000  \n",
       "VT0004   0.0   0.0   0.0   0.0   0.0   0.0   0.0   0.0  1.20130  \n",
       "VT0005   0.0   0.0   0.0   0.0   0.0   0.0   0.0   0.0  0.00000  \n",
       "VT0006   0.0   0.0   0.0   0.0   0.0   0.0   0.0   0.0  1.21019  \n",
       "\n",
       "[5 rows x 80 columns]"
      ]
     },
     "execution_count": 3,
     "metadata": {},
     "output_type": "execute_result"
    }
   ],
   "source": [
    "data.iloc[:,:-1].head()"
   ]
  },
  {
   "cell_type": "code",
   "execution_count": 4,
   "metadata": {
    "collapsed": true
   },
   "outputs": [
    {
     "name": "stderr",
     "output_type": "stream",
     "text": [
      "/home/ubuntu/anaconda3/envs/python3/lib/python3.6/site-packages/sklearn/model_selection/_split.py:2026: FutureWarning: From version 0.21, test_size will always complement train_size unless both are specified.\n",
      "  FutureWarning)\n"
     ]
    },
    {
     "name": "stdout",
     "output_type": "stream",
     "text": [
      "Here is the summary.\n",
      "Number of features is 80\n",
      "Number of samples is 3905\n",
      "Number of paths is 21090\n",
      "Some samples from self.info_\n",
      "        f0        f1       f10       f11       f12       f13  f14       f15  \\\n",
      "2726   0.0  0.092593  0.000000  0.000000 -0.048167  0.000000  0.0  0.000000   \n",
      "253    0.0  0.000000 -0.001452  0.000000  0.583333  0.000000  0.0  0.000000   \n",
      "13877  0.0  0.000000  0.000000  0.000000  0.000000  0.000000  0.0  0.000000   \n",
      "18711  0.0  0.000000  0.000000  0.000000  0.000000  0.000000  0.0  0.000000   \n",
      "8240   0.0  0.000000  0.000000  0.000000  0.000000  0.000000  0.0  0.000000   \n",
      "1669   0.0  0.000000  0.000000  0.000000  0.000000  0.000000  0.0  0.000000   \n",
      "7316   0.0  0.000000  0.000000  0.000000  0.000000 -0.000576  0.0 -0.001148   \n",
      "5573   0.0  0.000000  0.000000  0.000000  0.000000  0.000000  0.0  0.000000   \n",
      "14619  0.0  0.000000  0.000000  0.000000  0.000000  0.000000  0.0  0.000000   \n",
      "11283  0.0  0.000000  0.000000  0.589474  0.000000  0.000000  0.0  0.000000   \n",
      "\n",
      "           f16       f17   ...      s991   s992   s993   s994   s995   s996  \\\n",
      "2726   0.00000  0.000000   ...     False  False  False  False  False  False   \n",
      "253    0.00000  0.000000   ...     False  False  False  False  False  False   \n",
      "13877  0.39072  0.000000   ...     False  False  False  False  False  False   \n",
      "18711  0.00000  0.000000   ...     False  False  False  False  False  False   \n",
      "8240   0.00000  0.000000   ...     False  False  False  False  False  False   \n",
      "1669   0.00000  0.046784   ...     False  False  False  False  False  False   \n",
      "7316   0.00000  0.000000   ...     False  False  False  False  False  False   \n",
      "5573   0.00000  0.000000   ...     False  False  False  False  False  False   \n",
      "14619  0.00000 -0.016681   ...     False  False  False  False  False  False   \n",
      "11283  0.00000  0.000000   ...     False  False  False  False  False  False   \n",
      "\n",
      "        s997   s998   s999  tree_id  \n",
      "2726   False  False  False       12  \n",
      "253    False  False  False        1  \n",
      "13877  False  False  False       65  \n",
      "18711  False  False  False       88  \n",
      "8240   False  False  False       38  \n",
      "1669   False  False  False        7  \n",
      "7316   False  False  False       34  \n",
      "5573   False  False  False       26  \n",
      "14619  False  False  False       69  \n",
      "11283  False  False  False       53  \n",
      "\n",
      "[10 rows x 3988 columns]\n",
      "end.\n",
      "             f0           f1           f2           f3           f4  \\\n",
      "s0 -0.000643038    0.0086907  5.79177e-06  0.000856218  -0.00151588   \n",
      "s1 -0.000501617  -0.00117104 -0.000434675 -0.000661816 -0.000176523   \n",
      "s2  6.78622e-05 -0.000699462  -0.00248132   0.00556099    0.0021501   \n",
      "s3  -0.00088778  -0.00375458  -0.00266037 -0.000155206  -0.00251703   \n",
      "s4    0.0013008  -0.00560331  -0.00103706  0.000105248  -0.00384515   \n",
      "\n",
      "             f5           f6           f7          f8           f9  \\\n",
      "s0 -0.000335682 -0.000299195 -0.000856611 -0.00314321    0.0018374   \n",
      "s1 -6.51382e-06  -0.00102195 -0.000279241   0.0013284 -0.000894062   \n",
      "s2 -0.000456477  -0.00213201  0.000623654  0.00476533  -0.00124834   \n",
      "s3 -0.000140419  0.000760462 -0.000309017 -0.00149243  0.000329642   \n",
      "s4 -0.000649489    0.0192186 -0.000279134   0.0029225 -0.000731355   \n",
      "\n",
      "       ...               f70          f71          f72          f73  \\\n",
      "s0     ...      -2.08729e-05 -0.000178355            0 -0.000187205   \n",
      "s1     ...      -5.59136e-05 -0.000220847 -4.99164e-06 -0.000189355   \n",
      "s2     ...      -2.08729e-05   -0.0002092 -4.99164e-06  4.36846e-05   \n",
      "s3     ...      -2.71226e-05 -0.000234538            0 -0.000359759   \n",
      "s4     ...      -2.08729e-05 -0.000189735            0 -0.000323201   \n",
      "\n",
      "            f74          f75         f76          f77         f78          f79  \n",
      "s0  -0.00025432  -0.00140623 -0.00500193  -0.00580611  0.00389165 -0.000449852  \n",
      "s1 -0.000415132  -0.00118398 -0.00464089  -0.00233779 -0.00878091 -0.000397515  \n",
      "s2 -0.000208818 -0.000887047  0.00672672 -0.000189018   0.0130998 -0.000413263  \n",
      "s3 -0.000808106 -0.000738609 -0.00475995  -0.00705382 -0.00893555 -0.000871267  \n",
      "s4  -0.00023838  -0.00260469 -0.00509618  -0.00600744 -0.00894875 -0.000984009  \n",
      "\n",
      "[5 rows x 80 columns]\n",
      "[0.00719798 0.01104967 0.0122192  0.00852725 0.00971478 0.00956241\n",
      " 0.01172709 0.01068559 0.01331364 0.01087903 0.0119501  0.00517489\n",
      " 0.01095929 0.0120627  0.01041209 0.01282625 0.01411546 0.01210395\n",
      " 0.01128872 0.01122996 0.01020947 0.00616052 0.00943627 0.01170093\n",
      " 0.0122794  0.01180471 0.00972195 0.01150224 0.00982505 0.00895636\n",
      " 0.00843474 0.0094165  0.00767991 0.01500317 0.00759954 0.00768673\n",
      " 0.00954201 0.00634461 0.00842786 0.00825807 0.0075398  0.00595423\n",
      " 0.01175867 0.01031776 0.00984712 0.0305395  0.00468466 0.02021158\n",
      " 0.0170807  0.02185303 0.01665885 0.01160305 0.00796935 0.03925679\n",
      " 0.00721545 0.01314524 0.01294569 0.00980484 0.01385482 0.01030292\n",
      " 0.00395823 0.00180784 0.02603088 0.02697969 0.03125185 0.0047998\n",
      " 0.02509626 0.02288795 0.0139581  0.00747464 0.00169263 0.00379526\n",
      " 0.00181407 0.0042215  0.00454694 0.01220137 0.03390228 0.04113995\n",
      " 0.03606743 0.00683923]\n",
      "[-0.002039181663831301 -0.0025705925333537436 -0.004016752116906986\n",
      " -0.002174196690395221 -0.005501919645202931 -0.0016413671700500577\n",
      " 0.0007523536654710657 -0.00408720606817989 0.0015477381511693972\n",
      " 0.0011624052830904966 -0.005746395214779986 -0.0013263688101000628\n",
      " -0.0031547213867557946 -0.0036827092456696753 -0.006099746727192856\n",
      " -0.0005519928023926696 -0.002807134563774435 0.00021691109070197132\n",
      " -0.00020393527696238882 -0.0018870500033735017 0.0007200427092148049\n",
      " -0.005639187566077409 -0.0034601250941845973 -0.001161617107282832\n",
      " -0.00458345090872034 -0.005719360808615137 -0.002669201854857683\n",
      " -2.3454423714957783e-05 -0.0022138932407042484 -0.004614102875707731\n",
      " -0.0035049856874276356 0.0009428868162874673 0.0023031186691249133\n",
      " -0.0003452297240835804 0.000740478801620259 0.0005100116936198822\n",
      " -0.003163151698517145 -0.0003516505541782871 -0.0036654082321000547\n",
      " -0.002021226254716719 -0.0021482240762026525 -0.00397118504775847\n",
      " -0.003423672256003539 -0.005805153491754774 -0.005733641330733141\n",
      " 0.06528712379680486 0.004330602338111639 0.05107551875000848\n",
      " 0.039647956227419755 0.04627133265734994 0.018838439994665807\n",
      " 0.0009912391333587684 0.007557085254249356 0.10764630213415045\n",
      " 0.0008954917215944294 0.02085995500323814 0.024815093348979238\n",
      " 0.01062598606215424 0.030055423043389352 0.02047716900473354\n",
      " 0.002117927315575258 0.0031927480472773353 0.07658382951842406\n",
      " 0.0655147009923163 0.08156925891603782 0.0030393454375724307\n",
      " 0.06032877290524691 0.040067459133494916 0.01319357674588034\n",
      " 0.006794579068456083 0.00216688456850506 0.0024015669104208554\n",
      " 0.0031524376739427602 0.0013089638879322932 0.0037798679395178703\n",
      " 0.009169238079890446 0.10108694498231195 0.09865594083179863\n",
      " 0.07990503300236505 -0.0005905491552120644]\n"
     ]
    }
   ],
   "source": [
    "X_train, X_test, y_train, y_test = train_test_split(\n",
    "    np.array(data.iloc[:,:-1]), np.array(data.iloc[:,-1]), train_size=0.5,\n",
    "    random_state=2017)\n",
    "rf = RandomForestClassifier(\n",
    "    n_estimators=100, random_state=1231, bootstrap=True)\n",
    "rf.fit(X=X_train, y=y_train)\n",
    "#print(rf.estimators_[0].tree_.value[0])\n",
    "b = ForestReader()\n",
    "b.read_from(rf, X_test, TreeReaderType = 'Importance')\n",
    "b.summary()\n",
    "out, feature_importances_ = individual_signed_feature_importance(b, y_test)\n",
    "print(out.head())\n",
    "print(rf.feature_importances_)\n",
    "print(feature_importances_)"
   ]
  },
  {
   "cell_type": "code",
   "execution_count": 5,
   "metadata": {},
   "outputs": [
    {
     "name": "stdout",
     "output_type": "stream",
     "text": [
      "76 tll1 0.03390227800767942\n"
     ]
    },
    {
     "data": {
      "text/plain": [
       "Text(0.5,0,'feature values')"
      ]
     },
     "execution_count": 5,
     "metadata": {},
     "output_type": "execute_result"
    },
    {
     "data": {
      "image/png": "[encoded data removed]",
      "text/plain": [
       "<Figure size 432x288 with 1 Axes>"
      ]
     },
     "metadata": {},
     "output_type": "display_data"
    }
   ],
   "source": [
    "tmp = np.argsort(feature_importances_)[-2]\n",
    "print(tmp,data.columns[tmp], rf.feature_importances_[tmp])\n",
    "ind = tmp\n",
    "plt.scatter(X_test[:,ind], out.loc[:,'f'+str(ind)], alpha=.5)\n",
    "plt.ylabel('influence on the outcome')\n",
    "plt.xlabel('feature values')"
   ]
  },
  {
   "cell_type": "code",
   "execution_count": 6,
   "metadata": {},
   "outputs": [],
   "source": [
    "group1 = (out.loc[:,'f45'] < -0.01) & (X_test[:,45] < 250)\n",
    "group2 = (out.loc[:,'f45'] > -0.01) & (X_test[:,45] < 250) & (out.loc[:,'f45'] < 0.02)"
   ]
  },
  {
   "cell_type": "code",
   "execution_count": 7,
   "metadata": {
    "scrolled": false
   },
   "outputs": [
    {
     "name": "stdout",
     "output_type": "stream",
     "text": [
      "(80,) (80,)\n",
      "[28 44 20 24 14 19 23 27 45 43  9  6 10  5 35 36 34 13  4  7 77 78 50 49\n",
      " 48 53 51 66 63 64  8 58 73 59 55 68 76 32 31 60 56 67 54 57 69 75 37 62\n",
      " 21 47 79 52 71 70 74 46 65 61 15 72 26 12 39 42 30 41 29 18 38  3  1 40\n",
      "  0 11  2 16 22 33 25 17]\n",
      "[ 1.38343681e+00  1.19604997e+00  2.54280356e+00  1.17318274e+00\n",
      " -1.64973281e+00 -4.06331124e+00 -4.49609660e+00 -1.50522442e+00\n",
      " -8.78209954e-01 -4.83575805e+00 -4.21827749e+00  1.59780874e+00\n",
      "  9.61201496e-02 -1.86309835e+00 -1.40567440e+01 -4.81982296e-02\n",
      "  2.59483632e+00  8.86000812e+00  7.95191682e-01 -1.32001879e+01\n",
      " -2.06603147e+01 -2.85790802e-01  2.97124370e+00 -7.14048811e+00\n",
      " -1.83603072e+01  6.36225555e+00  1.71035042e-02 -6.46890579e+00\n",
      " -2.17632301e+01  6.97171648e-01  4.13893998e-01 -6.14673847e-01\n",
      " -6.30328534e-01  3.21036588e+00 -2.24141564e+00 -3.02792524e+00\n",
      " -2.81206266e+00 -4.09062735e-01  1.02759487e+00  1.28970295e-01\n",
      "  1.33355888e+00  6.55520200e-01  3.25415318e-01 -5.93097492e+00\n",
      " -2.09321393e+01 -5.99780317e+00 -8.65580370e-02 -2.74768148e-01\n",
      " -1.09483903e+00 -1.18000959e+00 -1.33925615e+00 -1.02367054e+00\n",
      " -1.85793391e-01 -1.06848853e+00 -5.80569172e-01 -6.88744283e-01\n",
      " -6.09777323e-01 -5.32426662e-01 -8.25015825e-01 -7.06552395e-01\n",
      " -6.10828492e-01 -5.86046847e-02 -3.24348971e-01 -9.20427732e-01\n",
      " -8.82382710e-01 -7.42482049e-02 -9.62376420e-01 -6.06712163e-01\n",
      " -6.52341295e-01 -5.24713304e-01 -1.11501503e-01 -1.38588487e-01\n",
      " -3.33211106e-02 -8.18077065e-01 -9.24396997e-02 -4.20444978e-01\n",
      " -6.34217017e-01 -1.45995808e+00 -1.45563421e+00 -2.63061079e-01]\n"
     ]
    },
    {
     "data": {
      "image/png": "[encoded data removed]",
      "text/plain": [
       "<Figure size 432x288 with 1 Axes>"
      ]
     },
     "metadata": {},
     "output_type": "display_data"
    }
   ],
   "source": [
    "mean1, var1 = np.mean(X_test[group1,:], axis=0), np.std(X_test[group1,:], axis=0) / sum(group1) ** .5\n",
    "mean2, var2 = np.mean(X_test[group2,:], axis=0), np.std(X_test[group2,:], axis=0) / sum(group2) ** .5\n",
    "print(mean1.shape, mean2.shape)\n",
    "plt.errorbar(np.arange(80), y=mean2 - mean1, yerr=(var1**2 + var2**2)**.5)\n",
    "plt.errorbar(np.arange(80), y=mean2 - mean1 + 2 * (var1**2 + var2**2)**.5)\n",
    "print(np.argsort(mean2 - mean1 + 2 *(var1**2 + var2**2)**.5))\n",
    "print(mean2 - mean1 + 2 *(var1**2 + var2**2)**.5)"
   ]
  },
  {
   "cell_type": "code",
   "execution_count": 8,
   "metadata": {},
   "outputs": [
    {
     "data": {
      "text/plain": [
       "<function matplotlib.pyplot.errorbar(x, y, yerr=None, xerr=None, fmt='', ecolor=None, elinewidth=None, capsize=None, barsabove=False, lolims=False, uplims=False, xlolims=False, xuplims=False, errorevery=1, capthick=None, hold=None, data=None, **kwargs)>"
      ]
     },
     "execution_count": 8,
     "metadata": {},
     "output_type": "execute_result"
    }
   ],
   "source": [
    "plt.errorbar"
   ]
  },
  {
   "cell_type": "code",
   "execution_count": 9,
   "metadata": {},
   "outputs": [
    {
     "data": {
      "text/plain": [
       "Text(0,0.5,'H3K4me1_c14c')"
      ]
     },
     "execution_count": 9,
     "metadata": {},
     "output_type": "execute_result"
    },
    {
     "data": {
      "image/png": "[encoded data removed]",
      "text/plain": [
       "<Figure size 432x288 with 2 Axes>"
      ]
     },
     "metadata": {},
     "output_type": "display_data"
    }
   ],
   "source": [
    "ind1 = 45\n",
    "ind2 = 20\n",
    "plt.scatter(X_test[:,ind1], X_test[:,ind2], c = out.loc[:,'f'+str(ind1)] , s = 50, cmap = sns.cubehelix_palette(as_cmap=True), alpha=.5)\n",
    "plt.colorbar()\n",
    "plt.xlabel(data.columns[ind1])\n",
    "plt.ylabel(data.columns[ind2])"
   ]
  },
  {
   "cell_type": "code",
   "execution_count": 16,
   "metadata": {},
   "outputs": [
    {
     "data": {
      "text/plain": [
       "array([-0.00063317, -0.00049009, -0.0018512 , -0.00676527, -0.00804697,\n",
       "       -0.00013305,  0.00112716, -0.00278426, -0.00155526,  0.00022436,\n",
       "       -0.00052813, -0.00234721, -0.0016935 , -0.00300716, -0.00561726,\n",
       "       -0.00050064, -0.00132896, -0.00332   ,  0.00055904,  0.00285863,\n",
       "        0.00488063, -0.00562847, -0.00178936,  0.00237325, -0.00288527,\n",
       "       -0.0078094 , -0.00236844,  0.00044484, -0.00194112, -0.00270641,\n",
       "       -0.00398677,  0.00107203,  0.00034704,  0.00788781, -0.00066616,\n",
       "       -0.00424916, -0.00292205,  0.00059819, -0.00230025,  0.0002193 ,\n",
       "       -0.00394294, -0.00351272, -0.00217496, -0.00464284, -0.00498457,\n",
       "        0.06325967,  0.00050584,  0.04306147,  0.03425895,  0.03928991,\n",
       "        0.02636762,  0.00133711,  0.00723407,  0.10937323, -0.0025003 ,\n",
       "        0.01597076,  0.01836077,  0.00925923,  0.03236636,  0.01998302,\n",
       "        0.00468319,  0.00320684,  0.07440313,  0.066995  ,  0.08028912,\n",
       "        0.00268297,  0.05222618,  0.05711741,  0.02274675,  0.0035463 ,\n",
       "        0.00098435,  0.00428514,  0.0011463 , -0.00089986,  0.00301579,\n",
       "        0.00968644,  0.09693261,  0.09343639,  0.08112464,  0.00078432])"
      ]
     },
     "execution_count": 16,
     "metadata": {},
     "output_type": "execute_result"
    }
   ],
   "source": [
    "oob_feature_importance(rf, X_train, y_train)"
   ]
  },
  {
   "cell_type": "code",
   "execution_count": 10,
   "metadata": {},
   "outputs": [
    {
     "data": {
      "text/plain": [
       "[<matplotlib.lines.Line2D at 0x7fbcd28c96a0>]"
      ]
     },
     "execution_count": 10,
     "metadata": {},
     "output_type": "execute_result"
    },
    {
     "data": {
      "image/png": "[encoded data removed]",
      "text/plain": [
       "<Figure size 432x288 with 1 Axes>"
      ]
     },
     "metadata": {},
     "output_type": "display_data"
    }
   ],
   "source": [
    "plt.plot(rf.feature_importances_)\n",
    "plt.plot(oob_feature_importance(rf, X_train, y_train))\n"
   ]
  },
  {
   "cell_type": "code",
   "execution_count": 11,
   "metadata": {},
   "outputs": [],
   "source": [
    "out = oob_feature_importance(rf, X_train, y_train)"
   ]
  },
  {
   "cell_type": "code",
   "execution_count": 12,
   "metadata": {},
   "outputs": [],
   "source": [
    "_, test_feature_importance = individual_signed_feature_importance(forestReader=b, labels=y_test)"
   ]
  },
  {
   "cell_type": "code",
   "execution_count": 13,
   "metadata": {},
   "outputs": [
    {
     "data": {
      "text/plain": [
       "[<matplotlib.lines.Line2D at 0x7fbcd26fa6a0>]"
      ]
     },
     "execution_count": 13,
     "metadata": {},
     "output_type": "execute_result"
    },
    {
     "data": {
      "image/png": "[encoded data removed]",
      "text/plain": [
       "<Figure size 432x288 with 1 Axes>"
      ]
     },
     "metadata": {},
     "output_type": "display_data"
    }
   ],
   "source": [
    "plt.scatter(rf.feature_importances_, test_feature_importance, marker = 'o')\n",
    "plt.plot([0, max(out)], [0, max(out)])"
   ]
  },
  {
   "cell_type": "code",
   "execution_count": 14,
   "metadata": {},
   "outputs": [
    {
     "data": {
      "text/plain": [
       "[<matplotlib.lines.Line2D at 0x7fbcd2a123c8>]"
      ]
     },
     "execution_count": 14,
     "metadata": {},
     "output_type": "execute_result"
    },
    {
     "data": {
      "image/png": "[encoded data removed]",
      "text/plain": [
       "<Figure size 432x288 with 1 Axes>"
      ]
     },
     "metadata": {},
     "output_type": "display_data"
    }
   ],
   "source": [
    "plt.scatter(out, test_feature_importance, marker = 'o')\n",
    "plt.plot([0, max(out)], [0, max(out)])"
   ]
  },
  {
   "cell_type": "code",
   "execution_count": 15,
   "metadata": {},
   "outputs": [
    {
     "data": {
      "text/plain": [
       "0.032991957582402025"
      ]
     },
     "execution_count": 15,
     "metadata": {},
     "output_type": "execute_result"
    }
   ],
   "source": [
    "np.sum((out - test_feature_importance) ** 2) / np.sum((rf.feature_importances_ - test_feature_importance) ** 2)"
   ]
  },
  {
   "cell_type": "markdown",
   "metadata": {},
   "source": [
    "## oob feature importance is closer to test than original feature importance"
   ]
  },
  {
   "cell_type": "markdown",
   "metadata": {},
   "source": [
    "# get the feature importance after permuting the labels"
   ]
  },
  {
   "cell_type": "code",
   "execution_count": 14,
   "metadata": {},
   "outputs": [
    {
     "data": {
      "text/plain": [
       "Index(['H3_c12', 'H3_c14a', 'H3_c14c', 'H3_c8', 'H3K18ac_c12', 'H3K18ac_c14a',\n",
       "       'H3K18ac_c14c', 'H3K18ac_c8', 'H3K27ac_c12', 'H3K27ac_c14a',\n",
       "       'H3K27ac_c14c', 'H3K27ac_c8', 'H3K27me3_c12', 'H3K27me3_c14a',\n",
       "       'H3K27me3_c14c', 'H3K36me3_c12', 'H3K36me3_c14a', 'H3K36me3_c14c',\n",
       "       'H3K4me1_c12', 'H3K4me1_c14a', 'H3K4me1_c14c', 'H3K4me1_c8',\n",
       "       'H3K4me3_c12', 'H3K4me3_c14a', 'H3K4me3_c14c', 'H3K4me3_c8',\n",
       "       'H3K9ac_c12', 'H3K9ac_c14a', 'H3K9ac_c14c', 'H3K9ac_c8', 'H4K5ac_c12',\n",
       "       'H4K5ac_c14a', 'H4K5ac_c14c', 'H4K5ac_c8', 'H4K8ac_c12', 'H4K8ac_c14a',\n",
       "       'H4K8ac_c14c', 'H4K8ac_c8', 'input_c12', 'input_c14a', 'input_c14c',\n",
       "       'input_c8', 'wt_H3', 'wt_H3K18ac', 'wt_H3K4me1', 'wt_ZLD', 'bcd1',\n",
       "       'bcd2', 'cad1', 'D1', 'da2', 'dl3', 'ftz3', 'gt2', 'h1', 'h2', 'hb1',\n",
       "       'hb2', 'hkb1', 'hkb2', 'hkb3', 'kni1', 'kni2', 'kr1', 'kr2', 'mad2',\n",
       "       'med2', 'prdBQ', 'prdFQ', 'run1', 'run2', 'shn2', 'shn3', 'slp1',\n",
       "       'sna1', 'sna2', 'tll1', 'twi1', 'twi2', 'z2', 'active'],\n",
       "      dtype='object')"
      ]
     },
     "execution_count": 14,
     "metadata": {},
     "output_type": "execute_result"
    }
   ],
   "source": [
    "data.columns"
   ]
  },
  {
   "cell_type": "code",
   "execution_count": 49,
   "metadata": {},
   "outputs": [
    {
     "name": "stderr",
     "output_type": "stream",
     "text": [
      "/home/yu/.local/lib/python3.6/site-packages/sklearn/model_selection/_split.py:2069: FutureWarning: From version 0.21, test_size will always complement train_size unless both are specified.\n",
      "  FutureWarning)\n"
     ]
    },
    {
     "name": "stdout",
     "output_type": "stream",
     "text": [
      "Index(['wt_ZLD', 'H3K4me3_c14a', 'H3K27me3_c14c', 'wt_H3K18ac',\n",
      "       'H3K36me3_c14c', 'wt_H3K4me1', 'H3K27me3_c12', 'H4K5ac_c8', 'wt_H3',\n",
      "       'H3K27me3_c14a', 'input_c14a', 'H3K4me3_c14c', 'H3K36me3_c12',\n",
      "       'H3K36me3_c14a', 'H3K4me1_c14a', 'H3K18ac_c12', 'H3K4me3_c12',\n",
      "       'input_c14c', 'H3K18ac_c14a', 'H3K9ac_c14c', 'H3K9ac_c8', 'H3K18ac_c8',\n",
      "       'H3K27ac_c12', 'H3K27ac_c14a', 'H4K8ac_c14c', 'H4K5ac_c12',\n",
      "       'H3K4me1_c8', 'H3K4me1_c14c', 'H3K4me3_c8', 'input_c12', 'H3K4me1_c12',\n",
      "       'H4K8ac_c14a', 'H3K9ac_c14a', 'H3_c14a', 'H4K8ac_c12', 'H3K27ac_c14c',\n",
      "       'dl3', 'input_c8', 'H3_c12', 'H3K9ac_c12', 'H3K18ac_c14c', 'H3_c8',\n",
      "       'sna2', 'H3_c14c', 'H4K5ac_c14a', 'H4K8ac_c8', 'twi2', 'twi1',\n",
      "       'H4K5ac_c14c', 'H3K27ac_c8', 'D1', 'da2', 'kr2', 'kr1', 'z2', 'med2',\n",
      "       'h2', 'mad2', 'hb2', 'prdFQ', 'slp1', 'prdBQ', 'run1', 'ftz3', 'h1',\n",
      "       'cad1', 'kni2', 'bcd2', 'bcd1', 'hb1', 'gt2', 'hkb3', 'sna1', 'run2',\n",
      "       'hkb1', 'hkb2', 'shn2', 'tll1', 'shn3', 'kni1'],\n",
      "      dtype='object')\n"
     ]
    },
    {
     "data": {
      "image/png": "[encoded data removed]",
      "text/plain": [
       "<Figure size 432x288 with 1 Axes>"
      ]
     },
     "metadata": {
      "needs_background": "light"
     },
     "output_type": "display_data"
    }
   ],
   "source": [
    "data.iloc[:,-1] = np.random.permutation(data.iloc[:,-1])\n",
    "X_train, X_test, y_train, y_test = train_test_split(\n",
    "    np.array(data.iloc[:,:-1]), np.array(data.iloc[:,-1]), train_size=0.5,\n",
    "    random_state=2017)\n",
    "\n",
    "rf = RandomForestClassifier(\n",
    "    n_estimators=100, bootstrap=True, max_depth = None)\n",
    "\n",
    "rf.fit(X=X_train, y=y_train)\n",
    "ix = np.argsort(rf.feature_importances_ * -1)\n",
    "topk = 10\n",
    "plt.bar(x = np.arange(topk), height=rf.feature_importances_[ix][:topk])\n",
    "plt.xticks(ticks = np.arange(topk), labels=data.columns[ix[:topk]])\n",
    "print(data.columns[ix])"
   ]
  },
  {
   "cell_type": "markdown",
   "metadata": {},
   "source": [
    "## test how many times wt_ZLD is the top"
   ]
  },
  {
   "cell_type": "code",
   "execution_count": 58,
   "metadata": {
    "scrolled": true
   },
   "outputs": [
    {
     "name": "stderr",
     "output_type": "stream",
     "text": [
      "/home/yu/.local/lib/python3.6/site-packages/sklearn/model_selection/_split.py:2069: FutureWarning: From version 0.21, test_size will always complement train_size unless both are specified.\n",
      "  FutureWarning)\n",
      "/home/yu/.local/lib/python3.6/site-packages/sklearn/model_selection/_split.py:2069: FutureWarning: From version 0.21, test_size will always complement train_size unless both are specified.\n",
      "  FutureWarning)\n",
      "/home/yu/.local/lib/python3.6/site-packages/sklearn/model_selection/_split.py:2069: FutureWarning: From version 0.21, test_size will always complement train_size unless both are specified.\n",
      "  FutureWarning)\n",
      "/home/yu/.local/lib/python3.6/site-packages/sklearn/model_selection/_split.py:2069: FutureWarning: From version 0.21, test_size will always complement train_size unless both are specified.\n",
      "  FutureWarning)\n",
      "/home/yu/.local/lib/python3.6/site-packages/sklearn/model_selection/_split.py:2069: FutureWarning: From version 0.21, test_size will always complement train_size unless both are specified.\n",
      "  FutureWarning)\n",
      "/home/yu/.local/lib/python3.6/site-packages/sklearn/model_selection/_split.py:2069: FutureWarning: From version 0.21, test_size will always complement train_size unless both are specified.\n",
      "  FutureWarning)\n",
      "/home/yu/.local/lib/python3.6/site-packages/sklearn/model_selection/_split.py:2069: FutureWarning: From version 0.21, test_size will always complement train_size unless both are specified.\n",
      "  FutureWarning)\n",
      "/home/yu/.local/lib/python3.6/site-packages/sklearn/model_selection/_split.py:2069: FutureWarning: From version 0.21, test_size will always complement train_size unless both are specified.\n",
      "  FutureWarning)\n",
      "/home/yu/.local/lib/python3.6/site-packages/sklearn/model_selection/_split.py:2069: FutureWarning: From version 0.21, test_size will always complement train_size unless both are specified.\n",
      "  FutureWarning)\n",
      "/home/yu/.local/lib/python3.6/site-packages/sklearn/model_selection/_split.py:2069: FutureWarning: From version 0.21, test_size will always complement train_size unless both are specified.\n",
      "  FutureWarning)\n",
      "/home/yu/.local/lib/python3.6/site-packages/sklearn/model_selection/_split.py:2069: FutureWarning: From version 0.21, test_size will always complement train_size unless both are specified.\n",
      "  FutureWarning)\n",
      "/home/yu/.local/lib/python3.6/site-packages/sklearn/model_selection/_split.py:2069: FutureWarning: From version 0.21, test_size will always complement train_size unless both are specified.\n",
      "  FutureWarning)\n",
      "/home/yu/.local/lib/python3.6/site-packages/sklearn/model_selection/_split.py:2069: FutureWarning: From version 0.21, test_size will always complement train_size unless both are specified.\n",
      "  FutureWarning)\n",
      "/home/yu/.local/lib/python3.6/site-packages/sklearn/model_selection/_split.py:2069: FutureWarning: From version 0.21, test_size will always complement train_size unless both are specified.\n",
      "  FutureWarning)\n",
      "/home/yu/.local/lib/python3.6/site-packages/sklearn/model_selection/_split.py:2069: FutureWarning: From version 0.21, test_size will always complement train_size unless both are specified.\n",
      "  FutureWarning)\n",
      "/home/yu/.local/lib/python3.6/site-packages/sklearn/model_selection/_split.py:2069: FutureWarning: From version 0.21, test_size will always complement train_size unless both are specified.\n",
      "  FutureWarning)\n",
      "/home/yu/.local/lib/python3.6/site-packages/sklearn/model_selection/_split.py:2069: FutureWarning: From version 0.21, test_size will always complement train_size unless both are specified.\n",
      "  FutureWarning)\n",
      "/home/yu/.local/lib/python3.6/site-packages/sklearn/model_selection/_split.py:2069: FutureWarning: From version 0.21, test_size will always complement train_size unless both are specified.\n",
      "  FutureWarning)\n",
      "/home/yu/.local/lib/python3.6/site-packages/sklearn/model_selection/_split.py:2069: FutureWarning: From version 0.21, test_size will always complement train_size unless both are specified.\n",
      "  FutureWarning)\n",
      "/home/yu/.local/lib/python3.6/site-packages/sklearn/model_selection/_split.py:2069: FutureWarning: From version 0.21, test_size will always complement train_size unless both are specified.\n",
      "  FutureWarning)\n",
      "/home/yu/.local/lib/python3.6/site-packages/sklearn/model_selection/_split.py:2069: FutureWarning: From version 0.21, test_size will always complement train_size unless both are specified.\n",
      "  FutureWarning)\n",
      "/home/yu/.local/lib/python3.6/site-packages/sklearn/model_selection/_split.py:2069: FutureWarning: From version 0.21, test_size will always complement train_size unless both are specified.\n",
      "  FutureWarning)\n",
      "/home/yu/.local/lib/python3.6/site-packages/sklearn/model_selection/_split.py:2069: FutureWarning: From version 0.21, test_size will always complement train_size unless both are specified.\n",
      "  FutureWarning)\n",
      "/home/yu/.local/lib/python3.6/site-packages/sklearn/model_selection/_split.py:2069: FutureWarning: From version 0.21, test_size will always complement train_size unless both are specified.\n",
      "  FutureWarning)\n",
      "/home/yu/.local/lib/python3.6/site-packages/sklearn/model_selection/_split.py:2069: FutureWarning: From version 0.21, test_size will always complement train_size unless both are specified.\n",
      "  FutureWarning)\n",
      "/home/yu/.local/lib/python3.6/site-packages/sklearn/model_selection/_split.py:2069: FutureWarning: From version 0.21, test_size will always complement train_size unless both are specified.\n",
      "  FutureWarning)\n",
      "/home/yu/.local/lib/python3.6/site-packages/sklearn/model_selection/_split.py:2069: FutureWarning: From version 0.21, test_size will always complement train_size unless both are specified.\n",
      "  FutureWarning)\n",
      "/home/yu/.local/lib/python3.6/site-packages/sklearn/model_selection/_split.py:2069: FutureWarning: From version 0.21, test_size will always complement train_size unless both are specified.\n",
      "  FutureWarning)\n",
      "/home/yu/.local/lib/python3.6/site-packages/sklearn/model_selection/_split.py:2069: FutureWarning: From version 0.21, test_size will always complement train_size unless both are specified.\n",
      "  FutureWarning)\n",
      "/home/yu/.local/lib/python3.6/site-packages/sklearn/model_selection/_split.py:2069: FutureWarning: From version 0.21, test_size will always complement train_size unless both are specified.\n",
      "  FutureWarning)\n",
      "/home/yu/.local/lib/python3.6/site-packages/sklearn/model_selection/_split.py:2069: FutureWarning: From version 0.21, test_size will always complement train_size unless both are specified.\n",
      "  FutureWarning)\n",
      "/home/yu/.local/lib/python3.6/site-packages/sklearn/model_selection/_split.py:2069: FutureWarning: From version 0.21, test_size will always complement train_size unless both are specified.\n",
      "  FutureWarning)\n",
      "/home/yu/.local/lib/python3.6/site-packages/sklearn/model_selection/_split.py:2069: FutureWarning: From version 0.21, test_size will always complement train_size unless both are specified.\n",
      "  FutureWarning)\n",
      "/home/yu/.local/lib/python3.6/site-packages/sklearn/model_selection/_split.py:2069: FutureWarning: From version 0.21, test_size will always complement train_size unless both are specified.\n",
      "  FutureWarning)\n",
      "/home/yu/.local/lib/python3.6/site-packages/sklearn/model_selection/_split.py:2069: FutureWarning: From version 0.21, test_size will always complement train_size unless both are specified.\n",
      "  FutureWarning)\n",
      "/home/yu/.local/lib/python3.6/site-packages/sklearn/model_selection/_split.py:2069: FutureWarning: From version 0.21, test_size will always complement train_size unless both are specified.\n",
      "  FutureWarning)\n",
      "/home/yu/.local/lib/python3.6/site-packages/sklearn/model_selection/_split.py:2069: FutureWarning: From version 0.21, test_size will always complement train_size unless both are specified.\n",
      "  FutureWarning)\n",
      "/home/yu/.local/lib/python3.6/site-packages/sklearn/model_selection/_split.py:2069: FutureWarning: From version 0.21, test_size will always complement train_size unless both are specified.\n",
      "  FutureWarning)\n",
      "/home/yu/.local/lib/python3.6/site-packages/sklearn/model_selection/_split.py:2069: FutureWarning: From version 0.21, test_size will always complement train_size unless both are specified.\n",
      "  FutureWarning)\n",
      "/home/yu/.local/lib/python3.6/site-packages/sklearn/model_selection/_split.py:2069: FutureWarning: From version 0.21, test_size will always complement train_size unless both are specified.\n",
      "  FutureWarning)\n",
      "/home/yu/.local/lib/python3.6/site-packages/sklearn/model_selection/_split.py:2069: FutureWarning: From version 0.21, test_size will always complement train_size unless both are specified.\n",
      "  FutureWarning)\n",
      "/home/yu/.local/lib/python3.6/site-packages/sklearn/model_selection/_split.py:2069: FutureWarning: From version 0.21, test_size will always complement train_size unless both are specified.\n",
      "  FutureWarning)\n",
      "/home/yu/.local/lib/python3.6/site-packages/sklearn/model_selection/_split.py:2069: FutureWarning: From version 0.21, test_size will always complement train_size unless both are specified.\n",
      "  FutureWarning)\n",
      "/home/yu/.local/lib/python3.6/site-packages/sklearn/model_selection/_split.py:2069: FutureWarning: From version 0.21, test_size will always complement train_size unless both are specified.\n",
      "  FutureWarning)\n",
      "/home/yu/.local/lib/python3.6/site-packages/sklearn/model_selection/_split.py:2069: FutureWarning: From version 0.21, test_size will always complement train_size unless both are specified.\n",
      "  FutureWarning)\n",
      "/home/yu/.local/lib/python3.6/site-packages/sklearn/model_selection/_split.py:2069: FutureWarning: From version 0.21, test_size will always complement train_size unless both are specified.\n",
      "  FutureWarning)\n",
      "/home/yu/.local/lib/python3.6/site-packages/sklearn/model_selection/_split.py:2069: FutureWarning: From version 0.21, test_size will always complement train_size unless both are specified.\n",
      "  FutureWarning)\n",
      "/home/yu/.local/lib/python3.6/site-packages/sklearn/model_selection/_split.py:2069: FutureWarning: From version 0.21, test_size will always complement train_size unless both are specified.\n",
      "  FutureWarning)\n",
      "/home/yu/.local/lib/python3.6/site-packages/sklearn/model_selection/_split.py:2069: FutureWarning: From version 0.21, test_size will always complement train_size unless both are specified.\n",
      "  FutureWarning)\n",
      "/home/yu/.local/lib/python3.6/site-packages/sklearn/model_selection/_split.py:2069: FutureWarning: From version 0.21, test_size will always complement train_size unless both are specified.\n",
      "  FutureWarning)\n"
     ]
    }
   ],
   "source": [
    "a = []\n",
    "for _ in range(50):\n",
    "    data.iloc[:,-1] = np.random.permutation(data.iloc[:,-1])\n",
    "    X_train, X_test, y_train, y_test = train_test_split(\n",
    "        np.array(data.iloc[:,:-1]), np.array(data.iloc[:,-1]), train_size=0.5)\n",
    "\n",
    "    rf = RandomForestClassifier(\n",
    "        n_estimators=100, bootstrap=True, max_depth = None)\n",
    "\n",
    "    rf.fit(X=X_train, y=y_train)\n",
    "    ix = np.argsort(rf.feature_importances_ * -1)\n",
    "    a.append(data.columns[ix[0]])"
   ]
  },
  {
   "cell_type": "code",
   "execution_count": 59,
   "metadata": {},
   "outputs": [
    {
     "data": {
      "text/plain": [
       "(array(['H3K27ac_c12', 'H3K27me3_c12', 'H3K36me3_c12', 'H3K36me3_c14c',\n",
       "        'H3K4me1_c12', 'H3K4me3_c12', 'H3K4me3_c14a', 'H4K5ac_c8', 'wt_H3',\n",
       "        'wt_H3K18ac', 'wt_H3K4me1', 'wt_ZLD'], dtype='<U13'),\n",
       " array([ 1,  1,  1,  3,  1,  2,  1,  1, 15,  3, 12,  9]))"
      ]
     },
     "execution_count": 59,
     "metadata": {},
     "output_type": "execute_result"
    }
   ],
   "source": [
    "np.unique(a, return_counts=True)"
   ]
  }
 ],
 "metadata": {
  "kernelspec": {
   "display_name": "Environment (conda_python3)",
   "language": "python",
   "name": "conda_python3"
  },
  "language_info": {
   "codemirror_mode": {
    "name": "ipython",
    "version": 3
   },
   "file_extension": ".py",
   "mimetype": "text/x-python",
   "name": "python",
   "nbconvert_exporter": "python",
   "pygments_lexer": "ipython3",
   "version": "3.6.5"
  }
 },
 "nbformat": 4,
 "nbformat_minor": 2
}
